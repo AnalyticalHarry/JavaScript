{
 "cells": [
  {
   "attachments": {},
   "cell_type": "markdown",
   "metadata": {},
   "source": [
    "## JavaScript - DATA STRUCTURES (ARRAYS)"
   ]
  },
  {
   "attachments": {},
   "cell_type": "markdown",
   "metadata": {},
   "source": [
    "Hemant Thapa"
   ]
  },
  {
   "attachments": {},
   "cell_type": "markdown",
   "metadata": {},
   "source": [
    "#### ARRAYS METHODS\n",
    "\n",
    "1. List of comments of IG post\n",
    "2. Collection of levels in a game\n",
    "3. Songs in a playlist"
   ]
  },
  {
   "attachments": {
    "image.png": {
     "image/png": "[encoded data removed]"
    }
   },
   "cell_type": "markdown",
   "metadata": {},
   "source": [
    "![image.png](attachment:image.png)"
   ]
  },
  {
   "attachments": {},
   "cell_type": "markdown",
   "metadata": {},
   "source": [
    "Example 1"
   ]
  },
  {
   "cell_type": "code",
   "execution_count": null,
   "metadata": {},
   "outputs": [],
   "source": [
    "//To make an empty array\n",
    "let students = [];\n",
    "console.log(students)"
   ]
  },
  {
   "cell_type": "code",
   "execution_count": null,
   "metadata": {},
   "outputs": [],
   "source": [
    "//Checking Type of data\n",
    "typeof students"
   ]
  },
  {
   "cell_type": "code",
   "execution_count": null,
   "metadata": {},
   "outputs": [],
   "source": [
    "// add to end of array\n",
    "students.push(1, 4)\n",
    "students.push(2)\n",
    "students.push(\"red\")\n",
    "students.push(\"grEen\")\n",
    "students.push(NaN)\n",
    "students.push(null)\n",
    "students.push(true)"
   ]
  },
  {
   "cell_type": "code",
   "execution_count": null,
   "metadata": {},
   "outputs": [],
   "source": [
    "students"
   ]
  },
  {
   "cell_type": "code",
   "execution_count": null,
   "metadata": {},
   "outputs": [],
   "source": [
    "// checking element of with index\n",
    "console.log(students.at(0))\n",
    "console.log(students.at(1))\n",
    "console.log(students.at(2))\n",
    "console.log(students.at(3))"
   ]
  },
  {
   "cell_type": "code",
   "execution_count": null,
   "metadata": {},
   "outputs": [],
   "source": [
    "// locating alphabet with indexing \n",
    "console.log(students[3][0])\n",
    "console.log(students[3][1])\n",
    "console.log(students[3][2])"
   ]
  },
  {
   "cell_type": "code",
   "execution_count": null,
   "metadata": {},
   "outputs": [],
   "source": [
    "// replacing element of array\n",
    "students[3] = \"Yellow\""
   ]
  },
  {
   "cell_type": "code",
   "execution_count": null,
   "metadata": {},
   "outputs": [],
   "source": [
    "students"
   ]
  },
  {
   "cell_type": "code",
   "execution_count": null,
   "metadata": {},
   "outputs": [],
   "source": [
    "// Removing element from end of array\n",
    "students.pop()"
   ]
  },
  {
   "cell_type": "code",
   "execution_count": null,
   "metadata": {},
   "outputs": [],
   "source": [
    "students"
   ]
  },
  {
   "cell_type": "code",
   "execution_count": null,
   "metadata": {},
   "outputs": [],
   "source": [
    "//removing from start\n",
    "students.shift(1)"
   ]
  },
  {
   "cell_type": "code",
   "execution_count": null,
   "metadata": {},
   "outputs": [],
   "source": [
    "students"
   ]
  },
  {
   "cell_type": "code",
   "execution_count": null,
   "metadata": {},
   "outputs": [],
   "source": [
    "//add to start\n",
    "students.unshift(0)"
   ]
  },
  {
   "cell_type": "code",
   "execution_count": null,
   "metadata": {},
   "outputs": [],
   "source": [
    "students"
   ]
  },
  {
   "cell_type": "code",
   "execution_count": null,
   "metadata": {},
   "outputs": [],
   "source": [
    "// Converting string elements into upper case\n",
    "students[3] = students[3].toUpperCase()"
   ]
  },
  {
   "cell_type": "code",
   "execution_count": null,
   "metadata": {},
   "outputs": [],
   "source": [
    "// Converting string elements into lower case\n",
    "students[4] = students[4].toLowerCase()"
   ]
  },
  {
   "cell_type": "code",
   "execution_count": null,
   "metadata": {},
   "outputs": [],
   "source": [
    "students"
   ]
  },
  {
   "cell_type": "code",
   "execution_count": null,
   "metadata": {},
   "outputs": [],
   "source": [
    "students"
   ]
  },
  {
   "attachments": {},
   "cell_type": "markdown",
   "metadata": {},
   "source": [
    "Example 2"
   ]
  },
  {
   "cell_type": "code",
   "execution_count": null,
   "metadata": {},
   "outputs": [],
   "source": [
    "//An array of strings\n",
    "let colors = ['red', 'orange', 'yellow'];\n",
    "console.log(colors)"
   ]
  },
  {
   "cell_type": "code",
   "execution_count": null,
   "metadata": {},
   "outputs": [],
   "source": [
    "typeof colors"
   ]
  },
  {
   "cell_type": "code",
   "execution_count": null,
   "metadata": {},
   "outputs": [],
   "source": [
    "console.log(colors[0])\n",
    "console.log(colors[1])\n",
    "console.log(colors[2])"
   ]
  },
  {
   "cell_type": "code",
   "execution_count": null,
   "metadata": {},
   "outputs": [],
   "source": [
    "for (var itr = 0; itr < colors.length; itr++){\n",
    "    console.log(itr+1, \":\",colors[itr])\n",
    "}"
   ]
  },
  {
   "attachments": {},
   "cell_type": "markdown",
   "metadata": {},
   "source": [
    "Example 3"
   ]
  },
  {
   "cell_type": "code",
   "execution_count": null,
   "metadata": {},
   "outputs": [],
   "source": [
    "//An array of numbers\n",
    "let lottoNums = [19, 22, 56, 12, 51];\n",
    "console.log(lottoNums)"
   ]
  },
  {
   "cell_type": "code",
   "execution_count": null,
   "metadata": {},
   "outputs": [],
   "source": [
    "typeof lottoNums"
   ]
  },
  {
   "cell_type": "code",
   "execution_count": null,
   "metadata": {},
   "outputs": [],
   "source": [
    "for (var i = 0; i<lottoNums.length; i++){\n",
    "    console.log(lottoNums[i])\n",
    "    console.log(typeof(lottoNums[i]))\n",
    "}"
   ]
  },
  {
   "cell_type": "code",
   "execution_count": null,
   "metadata": {},
   "outputs": [],
   "source": [
    "// A mixed array\n",
    "let stuff = [true, 68, 'cat', null];\n",
    "console.log(stuff)"
   ]
  },
  {
   "cell_type": "code",
   "execution_count": null,
   "metadata": {},
   "outputs": [],
   "source": [
    "typeof stuff"
   ]
  },
  {
   "cell_type": "code",
   "execution_count": null,
   "metadata": {},
   "outputs": [],
   "source": [
    "for (var i = 0; i<stuff.length; i++){\n",
    "    console.log(stuff[i])\n",
    "    console.log(typeof(stuff[i]))\n",
    "    console.log(\"--------\")\n",
    "}"
   ]
  },
  {
   "attachments": {},
   "cell_type": "markdown",
   "metadata": {},
   "source": [
    "MORE METHODS"
   ]
  },
  {
   "cell_type": "code",
   "execution_count": null,
   "metadata": {},
   "outputs": [],
   "source": [
    "//concat()\n",
    "const array1 = ['a', 'b', 'c'];\n",
    "const array2 = ['d', 'e' , 'f'];\n",
    "const array3 = ['g', 'h', 'i'];\n",
    "\n",
    "const array4 = array1.concat(array2, array3);"
   ]
  },
  {
   "cell_type": "code",
   "execution_count": null,
   "metadata": {},
   "outputs": [],
   "source": [
    "console.log(array4)"
   ]
  },
  {
   "cell_type": "code",
   "execution_count": null,
   "metadata": {},
   "outputs": [],
   "source": [
    "// includes(), method determines whether an array includes a certain value among its entries. returning true or false appropriate\n",
    "const arrayA = [1,2,4,5,6,7]\n",
    "console.log(arrayA.includes(1))\n",
    "console.log(arrayA.includes(5))"
   ]
  },
  {
   "cell_type": "code",
   "execution_count": null,
   "metadata": {},
   "outputs": [],
   "source": [
    "const animals = [\"cat\", \"dog\", \"cow\", \"hen\", \"turkey\"];"
   ]
  },
  {
   "cell_type": "code",
   "execution_count": null,
   "metadata": {},
   "outputs": [],
   "source": [
    "console.log(animals.includes(\"dog\"));\n",
    "console.log(animals.includes(\"hen\"));\n",
    "console.log(animals.includes(\"ox\"));"
   ]
  },
  {
   "cell_type": "code",
   "execution_count": null,
   "metadata": {},
   "outputs": [],
   "source": [
    "// indexOf() method returns the first index at which given element can be found in the array, or -1 if it is not present.\n",
    "const beasts = [\"ant\", \"bison\", \"camel\", \"duck\", \"bison\"];"
   ]
  },
  {
   "cell_type": "code",
   "execution_count": null,
   "metadata": {},
   "outputs": [],
   "source": [
    "console.log(beasts.indexOf('bison'));\n",
    "console.log(beasts.indexOf('bison', 2));\n",
    "console.log(beasts.indexOf('griaffe')); // -1, which mean no 'griaffe' present inside our array"
   ]
  },
  {
   "cell_type": "code",
   "execution_count": null,
   "metadata": {},
   "outputs": [],
   "source": [
    "//reverse(), method reverse an array in place. The first array elements becomes the first and the last array element becomes the first\n",
    "\n",
    "const arrayList = ['one', 'two', 'three'];"
   ]
  },
  {
   "cell_type": "code",
   "execution_count": null,
   "metadata": {},
   "outputs": [],
   "source": [
    "console.log('array:', arrayList)"
   ]
  },
  {
   "cell_type": "code",
   "execution_count": null,
   "metadata": {},
   "outputs": [],
   "source": [
    "console.log('array Reversed:', arrayList.reverse())"
   ]
  },
  {
   "cell_type": "code",
   "execution_count": null,
   "metadata": {},
   "outputs": [],
   "source": [
    "var numList = []\n",
    "for (i =0; i <= 20; i++){\n",
    "    numList.push(i);\n",
    "}"
   ]
  },
  {
   "cell_type": "code",
   "execution_count": null,
   "metadata": {},
   "outputs": [],
   "source": [
    "numList"
   ]
  },
  {
   "cell_type": "code",
   "execution_count": null,
   "metadata": {},
   "outputs": [],
   "source": [
    "numList.reverse()"
   ]
  },
  {
   "cell_type": "code",
   "execution_count": null,
   "metadata": {},
   "outputs": [],
   "source": [
    "// slice & splice \n",
    "// slice - copies a portion on an array\n",
    "//splice - removes/replaces elements\n",
    "const programmingLanguage = [\"C\", \"C++\", \"C#\", \"CPython\", \"Java\", \"JavaScript\", \"PHP\"]"
   ]
  },
  {
   "cell_type": "code",
   "execution_count": null,
   "metadata": {},
   "outputs": [],
   "source": [
    "//Total slicing method\n",
    "console.log(programmingLanguage.slice(0))\n",
    "console.log(programmingLanguage.slice(1))\n",
    "console.log(programmingLanguage.slice(2))\n",
    "console.log(programmingLanguage.slice(3))\n",
    "console.log(programmingLanguage.slice(4))\n",
    "console.log(programmingLanguage.slice(5))\n",
    "console.log(programmingLanguage.slice(6))\n"
   ]
  },
  {
   "cell_type": "code",
   "execution_count": 1,
   "metadata": {},
   "outputs": [],
   "source": [
    "const months = [\"Jan\", \"Mar\", \"Apr\", \"Jun\", \"Aug\", \"lol\"];\n"
   ]
  },
  {
   "cell_type": "code",
   "execution_count": 2,
   "metadata": {},
   "outputs": [
    {
     "data": {
      "text/plain": [
       "[\n",
       "  'Jan', 'Feb',\n",
       "  'Mar', 'Apr',\n",
       "  'Jun', 'Aug',\n",
       "  'lol'\n",
       "]"
      ]
     },
     "execution_count": 2,
     "metadata": {},
     "output_type": "execute_result"
    }
   ],
   "source": [
    "//insert at index 1\n",
    "//splice(index, deletCount=0)\n",
    "months.splice(1,0, 'Feb')\n",
    "months"
   ]
  },
  {
   "cell_type": "code",
   "execution_count": 3,
   "metadata": {},
   "outputs": [
    {
     "data": {
      "text/plain": [
       "[\n",
       "  'Jan', 'Feb',\n",
       "  'Mar', 'Apr',\n",
       "  'May', 'Jun',\n",
       "  'Aug', 'lol'\n",
       "]"
      ]
     },
     "execution_count": 3,
     "metadata": {},
     "output_type": "execute_result"
    }
   ],
   "source": [
    "//insert at index 4\n",
    "months.splice(4,0, 'May')\n",
    "months"
   ]
  },
  {
   "cell_type": "code",
   "execution_count": 4,
   "metadata": {},
   "outputs": [
    {
     "data": {
      "text/plain": [
       "[\n",
       "  'Jan', 'Feb',\n",
       "  'Mar', 'Apr',\n",
       "  'May', 'Jun',\n",
       "  'Jul', 'Aug',\n",
       "  'lol'\n",
       "]"
      ]
     },
     "execution_count": 4,
     "metadata": {},
     "output_type": "execute_result"
    }
   ],
   "source": [
    "//insert at index 6\n",
    "months.splice(6,0, 'Jul')\n",
    "months"
   ]
  },
  {
   "cell_type": "code",
   "execution_count": 5,
   "metadata": {},
   "outputs": [
    {
     "data": {
      "text/plain": [
       "[\n",
       "  'Jan', 'Feb',\n",
       "  'Mar', 'Apr',\n",
       "  'May', 'Jun',\n",
       "  'Jul', 'Aug',\n",
       "  'Sep'\n",
       "]"
      ]
     },
     "execution_count": 5,
     "metadata": {},
     "output_type": "execute_result"
    }
   ],
   "source": [
    "// replace at index 9\n",
    "//repalce(index, delete)\n",
    "months.splice(8, 1, \"Sep\")\n",
    "months"
   ]
  },
  {
   "cell_type": "code",
   "execution_count": 6,
   "metadata": {},
   "outputs": [
    {
     "name": "stdout",
     "output_type": "stream",
     "text": [
      "[\n",
      "  'Jan', 'Feb',\n",
      "  'Mar', 'Apr',\n",
      "  'May', 'Jun',\n",
      "  'Jul', 'Aug',\n",
      "  'Sep'\n",
      "]\n"
     ]
    }
   ],
   "source": [
    "console.log(months)"
   ]
  },
  {
   "cell_type": "code",
   "execution_count": 7,
   "metadata": {},
   "outputs": [
    {
     "data": {
      "text/plain": [
       "11"
      ]
     },
     "execution_count": 7,
     "metadata": {},
     "output_type": "execute_result"
    }
   ],
   "source": [
    "months.push('Oct')\n",
    "months.push('Oct')"
   ]
  },
  {
   "cell_type": "code",
   "execution_count": 10,
   "metadata": {},
   "outputs": [
    {
     "data": {
      "text/plain": [
       "[ 'Oct', 'Oct' ]"
      ]
     },
     "execution_count": 10,
     "metadata": {},
     "output_type": "execute_result"
    }
   ],
   "source": [
    "//splice(index, deleteCount)\n",
    "months.splice(9, 2, \"Oct\")"
   ]
  },
  {
   "cell_type": "code",
   "execution_count": 12,
   "metadata": {},
   "outputs": [
    {
     "name": "stdout",
     "output_type": "stream",
     "text": [
      "[\n",
      "  'Jan', 'Feb', 'Mar',\n",
      "  'Apr', 'May', 'Jun',\n",
      "  'Jul', 'Aug', 'Sep',\n",
      "  'Oct'\n",
      "]\n"
     ]
    }
   ],
   "source": [
    "console.log(months)"
   ]
  },
  {
   "cell_type": "code",
   "execution_count": 14,
   "metadata": {},
   "outputs": [],
   "source": [
    "// sort, method sorts the elements of an array in place and returns the sorted arrays. The default sort order is ascending, built\n",
    "//upon converting the elements intos trings, then comparing their sequences of UTF-16 code units values.\n",
    "const fruits = [\"Banana\", \"Orange\", \"Apple\", \"Mango\", \"Pineapple\"];"
   ]
  },
  {
   "cell_type": "code",
   "execution_count": 15,
   "metadata": {},
   "outputs": [
    {
     "name": "stdout",
     "output_type": "stream",
     "text": [
      "[ 'Apple', 'Banana', 'Mango', 'Orange', 'Pineapple' ]\n"
     ]
    }
   ],
   "source": [
    "fruits.sort();\n",
    "console.log(fruits)"
   ]
  },
  {
   "cell_type": "code",
   "execution_count": 16,
   "metadata": {},
   "outputs": [
    {
     "name": "stdout",
     "output_type": "stream",
     "text": [
      "[\n",
      "  0.0009, 0.1, 1,\n",
      "  1000,   23,  24,\n",
      "  53,     74,  NaN,\n",
      "  null\n",
      "]\n"
     ]
    }
   ],
   "source": [
    "const countNumbers = [1000, 24, 53, 1, 23, 74, 0.1, 0.0009, null, NaN];\n",
    "countNumbers.sort();\n",
    "console.log(countNumbers);"
   ]
  },
  {
   "cell_type": "code",
   "execution_count": 1,
   "metadata": {},
   "outputs": [],
   "source": [
    "// toString(), methid return string represneting the specific array and its elements\n",
    "const dataList = [1, 2, 4, 5, 'a', '1a'];"
   ]
  },
  {
   "cell_type": "code",
   "execution_count": 7,
   "metadata": {},
   "outputs": [
    {
     "data": {
      "text/plain": [
       "'1,2,4,5,a,1a'"
      ]
     },
     "execution_count": 7,
     "metadata": {},
     "output_type": "execute_result"
    }
   ],
   "source": [
    "dataListString = dataList.toString()\n",
    "dataListString"
   ]
  },
  {
   "cell_type": "code",
   "execution_count": 8,
   "metadata": {},
   "outputs": [
    {
     "data": {
      "text/plain": [
       "true"
      ]
     },
     "execution_count": 8,
     "metadata": {},
     "output_type": "execute_result"
    }
   ],
   "source": [
    "//Type & Equality Testing\n",
    "'Harry' == 'Harry'"
   ]
  },
  {
   "cell_type": "code",
   "execution_count": 9,
   "metadata": {},
   "outputs": [
    {
     "data": {
      "text/plain": [
       "false"
      ]
     },
     "execution_count": 9,
     "metadata": {},
     "output_type": "execute_result"
    }
   ],
   "source": [
    "// we are not comapring contents, JavaScripts actually dosen't care about what inside. it compare instead the references of memory \n",
    "[\"Harry\"] == [\"Harry\"]"
   ]
  },
  {
   "cell_type": "code",
   "execution_count": 10,
   "metadata": {},
   "outputs": [
    {
     "data": {
      "text/plain": [
       "false"
      ]
     },
     "execution_count": 10,
     "metadata": {},
     "output_type": "execute_result"
    }
   ],
   "source": [
    "[1] == [1]"
   ]
  },
  {
   "cell_type": "code",
   "execution_count": 11,
   "metadata": {},
   "outputs": [
    {
     "data": {
      "text/plain": [
       "false"
      ]
     },
     "execution_count": 11,
     "metadata": {},
     "output_type": "execute_result"
    }
   ],
   "source": [
    "[1] === [1]"
   ]
  },
  {
   "cell_type": "code",
   "execution_count": 13,
   "metadata": {},
   "outputs": [
    {
     "data": {
      "text/plain": [
       "false"
      ]
     },
     "execution_count": 13,
     "metadata": {},
     "output_type": "execute_result"
    }
   ],
   "source": [
    "[ ] == []"
   ]
  },
  {
   "cell_type": "code",
   "execution_count": 14,
   "metadata": {},
   "outputs": [],
   "source": [
    "//let say we have number and we are making duplicate data, whatever change we make in primary data, same change will be appeared on copied data\n",
    "let luckyNum = 87;\n",
    "let luckyNumCopy = luckyNum;"
   ]
  },
  {
   "cell_type": "code",
   "execution_count": 15,
   "metadata": {},
   "outputs": [
    {
     "data": {
      "text/plain": [
       "87"
      ]
     },
     "execution_count": 15,
     "metadata": {},
     "output_type": "execute_result"
    }
   ],
   "source": [
    "luckyNum = luckyNumCopy"
   ]
  },
  {
   "cell_type": "code",
   "execution_count": 16,
   "metadata": {},
   "outputs": [
    {
     "data": {
      "text/plain": [
       "true"
      ]
     },
     "execution_count": 16,
     "metadata": {},
     "output_type": "execute_result"
    }
   ],
   "source": [
    "luckyNum == luckyNumCopy"
   ]
  },
  {
   "cell_type": "code",
   "execution_count": 17,
   "metadata": {},
   "outputs": [
    {
     "data": {
      "text/plain": [
       "true"
      ]
     },
     "execution_count": 17,
     "metadata": {},
     "output_type": "execute_result"
    }
   ],
   "source": [
    "luckyNum === luckyNumCopy"
   ]
  },
  {
   "cell_type": "code",
   "execution_count": 18,
   "metadata": {},
   "outputs": [],
   "source": [
    "// declaring a array and making copy of same array\n",
    "let numListData = [1,2,3,4,5]\n",
    "let numListDataCopy = numListData"
   ]
  },
  {
   "cell_type": "code",
   "execution_count": 20,
   "metadata": {},
   "outputs": [
    {
     "data": {
      "text/plain": [
       "6"
      ]
     },
     "execution_count": 20,
     "metadata": {},
     "output_type": "execute_result"
    }
   ],
   "source": [
    "//adding 100 at the end of the array\n",
    "numListData.push(100)"
   ]
  },
  {
   "cell_type": "code",
   "execution_count": 22,
   "metadata": {},
   "outputs": [
    {
     "data": {
      "text/plain": [
       "[ 1, 2, 3, 4, 5, 100 ]"
      ]
     },
     "execution_count": 22,
     "metadata": {},
     "output_type": "execute_result"
    }
   ],
   "source": [
    "//printing primary data, which contains 100 at end\n",
    "numListData"
   ]
  },
  {
   "cell_type": "code",
   "execution_count": 23,
   "metadata": {},
   "outputs": [
    {
     "data": {
      "text/plain": [
       "[ 1, 2, 3, 4, 5, 100 ]"
      ]
     },
     "execution_count": 23,
     "metadata": {},
     "output_type": "execute_result"
    }
   ],
   "source": [
    "//printing copied data which contains copy of the primary data\n",
    "numListDataCopy"
   ]
  },
  {
   "cell_type": "code",
   "execution_count": 25,
   "metadata": {},
   "outputs": [
    {
     "data": {
      "text/plain": [
       "true"
      ]
     },
     "execution_count": 25,
     "metadata": {},
     "output_type": "execute_result"
    }
   ],
   "source": [
    "// Both data has same memory, we are searching for memory instead of elements\n",
    "numListData === numListDataCopy"
   ]
  },
  {
   "attachments": {},
   "cell_type": "markdown",
   "metadata": {},
   "source": [
    "Array & Constant"
   ]
  },
  {
   "cell_type": "code",
   "execution_count": 26,
   "metadata": {},
   "outputs": [],
   "source": [
    "const PI = 3.14159"
   ]
  },
  {
   "cell_type": "code",
   "execution_count": 27,
   "metadata": {},
   "outputs": [
    {
     "ename": "TypeError",
     "evalue": "Assignment to constant variable.",
     "output_type": "error",
     "traceback": [
      "evalmachine.<anonymous>:1",
      "PI +=1",
      "   ^",
      "",
      "TypeError: Assignment to constant variable.",
      "    at evalmachine.<anonymous>:1:4",
      "    at Script.runInThisContext (node:vm:122:12)",
      "    at Object.runInThisContext (node:vm:298:38)",
      "    at run ([eval]:1020:15)",
      "    at onRunRequest ([eval]:864:18)",
      "    at onMessage ([eval]:828:13)",
      "    at process.emit (node:events:511:28)",
      "    at emit (node:internal/child_process:944:14)",
      "    at process.processTicksAndRejections (node:internal/process/task_queues:83:21)"
     ]
    }
   ],
   "source": [
    "PI +=1"
   ]
  },
  {
   "cell_type": "code",
   "execution_count": 1,
   "metadata": {},
   "outputs": [
    {
     "name": "stdout",
     "output_type": "stream",
     "text": [
      "[\n",
      "  1, 2, 3, 4,\n",
      "  5, 6, 7\n",
      "]\n"
     ]
    }
   ],
   "source": [
    "//value can be change as long as reference remains the same\n",
    "const myNumList = [1,2,3,4,5,6,7]\n",
    "console.log(myNumList)"
   ]
  },
  {
   "cell_type": "code",
   "execution_count": 2,
   "metadata": {},
   "outputs": [
    {
     "data": {
      "text/plain": [
       "[\n",
       "  1, 2, 3, 4,\n",
       "  5, 6, 7, 8\n",
       "]"
      ]
     },
     "execution_count": 2,
     "metadata": {},
     "output_type": "execute_result"
    }
   ],
   "source": [
    "myNumList.push(8)\n",
    "myNumList"
   ]
  },
  {
   "cell_type": "code",
   "execution_count": 3,
   "metadata": {},
   "outputs": [
    {
     "name": "stdout",
     "output_type": "stream",
     "text": [
      "[\n",
      "  99, 2, 3, 4,\n",
      "   5, 6, 7, 8\n",
      "]\n"
     ]
    }
   ],
   "source": [
    "//assign the value\n",
    "myNumList[0] = 99\n",
    "console.log(myNumList)"
   ]
  },
  {
   "attachments": {},
   "cell_type": "markdown",
   "metadata": {},
   "source": [
    "Multi Dimensional Array"
   ]
  },
  {
   "cell_type": "code",
   "execution_count": 4,
   "metadata": {},
   "outputs": [],
   "source": [
    "//We can store arrays inside other arrays!\n",
    "const colors = [['red', 'crimson'],\n",
    "                ['orange', 'dark orange'],\n",
    "                ['green', 'golf rod'],\n",
    "                ['grey', 'blacj'],\n",
    "                ['blue', 'navy blue']\n",
    "                ]"
   ]
  },
  {
   "cell_type": "code",
   "execution_count": 5,
   "metadata": {},
   "outputs": [
    {
     "name": "stdout",
     "output_type": "stream",
     "text": [
      "[\n",
      "  [ 'red', 'crimson' ],\n",
      "  [ 'orange', 'dark orange' ],\n",
      "  [ 'green', 'golf rod' ],\n",
      "  [ 'grey', 'blacj' ],\n",
      "  [ 'blue', 'navy blue' ]\n",
      "]\n"
     ]
    }
   ],
   "source": [
    "console.log(colors)"
   ]
  },
  {
   "cell_type": "code",
   "execution_count": 1,
   "metadata": {},
   "outputs": [],
   "source": [
    "const gameBoard = [['X', 'O', 'X'],\n",
    "                   ['O',null, 'X'],\n",
    "                   ['O', 'O', 'X']\n",
    "                ]"
   ]
  },
  {
   "cell_type": "code",
   "execution_count": 3,
   "metadata": {},
   "outputs": [
    {
     "name": "stdout",
     "output_type": "stream",
     "text": [
      "[ [ 'X', 'O', 'X' ], [ 'O', null, 'X' ], [ 'O', 'O', 'X' ] ]\n"
     ]
    }
   ],
   "source": [
    "console.log(gameBoard)"
   ]
  },
  {
   "cell_type": "code",
   "execution_count": 5,
   "metadata": {},
   "outputs": [
    {
     "name": "stdout",
     "output_type": "stream",
     "text": [
      "X\n",
      "X\n",
      "X\n",
      "X\n"
     ]
    }
   ],
   "source": [
    "//Accessing and printing all X values\n",
    "console.log(gameBoard[0][0])\n",
    "console.log(gameBoard[0][2])\n",
    "console.log(gameBoard[1][2])\n",
    "console.log(gameBoard[2][2])"
   ]
  },
  {
   "cell_type": "code",
   "execution_count": null,
   "metadata": {},
   "outputs": [],
   "source": []
  }
 ],
 "metadata": {
  "kernelspec": {
   "display_name": "JavaScript (Node.js)",
   "language": "javascript",
   "name": "javascript"
  },
  "language_info": {
   "file_extension": ".js",
   "mimetype": "application/javascript",
   "name": "javascript",
   "version": "20.3.1"
  },
  "orig_nbformat": 4
 },
 "nbformat": 4,
 "nbformat_minor": 2
}
