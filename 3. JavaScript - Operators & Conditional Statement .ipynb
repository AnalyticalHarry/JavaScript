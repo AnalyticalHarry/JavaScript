{
 "cells": [
  {
   "cell_type": "markdown",
   "id": "a5bfdd21",
   "metadata": {},
   "source": [
    "## JavaScript - Operators & Conditional Statement"
   ]
  },
  {
   "attachments": {
    "image-4.png": {
     "image/png": "[encoded data removed]"
    }
   },
   "cell_type": "markdown",
   "id": "f341fa0a",
   "metadata": {},
   "source": [
    "![image-4.png](attachment:image-4.png)"
   ]
  },
  {
   "cell_type": "markdown",
   "id": "c724f317",
   "metadata": {},
   "source": [
    "## Hemant Thapa"
   ]
  },
  {
   "cell_type": "markdown",
   "id": "e3cffa7d",
   "metadata": {},
   "source": [
    "1. Comparision Operators\n",
    "2. Console, Alert & Prompt\n",
    "3. Condition statement\n",
    "4. Truth-y & False-y value\n",
    "5. Logical Operators "
   ]
  },
  {
   "cell_type": "markdown",
   "id": "58bb362f",
   "metadata": {},
   "source": [
    "### 1. Comparision Operators"
   ]
  },
  {
   "cell_type": "markdown",
   "id": "df171b16",
   "metadata": {},
   "source": [
    "All values will be return a Boolean!"
   ]
  },
  {
   "cell_type": "code",
   "execution_count": 13,
   "id": "cc5983d6",
   "metadata": {},
   "outputs": [
    {
     "data": {
      "text/plain": [
       "false"
      ]
     },
     "execution_count": 13,
     "metadata": {},
     "output_type": "execute_result"
    }
   ],
   "source": [
    "//Greater than\n",
    "1 > 3"
   ]
  },
  {
   "cell_type": "code",
   "execution_count": 14,
   "id": "16f053ad",
   "metadata": {},
   "outputs": [
    {
     "data": {
      "text/plain": [
       "true"
      ]
     },
     "execution_count": 14,
     "metadata": {},
     "output_type": "execute_result"
    }
   ],
   "source": [
    "//less than\n",
    "1< 3"
   ]
  },
  {
   "cell_type": "code",
   "execution_count": 15,
   "id": "5d96aa32",
   "metadata": {},
   "outputs": [
    {
     "data": {
      "text/plain": [
       "true"
      ]
     },
     "execution_count": 15,
     "metadata": {},
     "output_type": "execute_result"
    }
   ],
   "source": [
    "// greater than or equal to\n",
    "20 >= 20"
   ]
  },
  {
   "cell_type": "code",
   "execution_count": 16,
   "id": "3f1f3ba4",
   "metadata": {},
   "outputs": [
    {
     "data": {
      "text/plain": [
       "false"
      ]
     },
     "execution_count": 16,
     "metadata": {},
     "output_type": "execute_result"
    }
   ],
   "source": [
    "// greater than or equal to\n",
    "20 >= 30"
   ]
  },
  {
   "cell_type": "code",
   "execution_count": 17,
   "id": "2946eaef",
   "metadata": {},
   "outputs": [
    {
     "data": {
      "text/plain": [
       "true"
      ]
     },
     "execution_count": 17,
     "metadata": {},
     "output_type": "execute_result"
    }
   ],
   "source": [
    "//less than or equal to\n",
    "20 <= 30"
   ]
  },
  {
   "cell_type": "code",
   "execution_count": 18,
   "id": "f8449491",
   "metadata": {},
   "outputs": [
    {
     "data": {
      "text/plain": [
       "false"
      ]
     },
     "execution_count": 18,
     "metadata": {},
     "output_type": "execute_result"
    }
   ],
   "source": [
    "//less than or equal to\n",
    "30 <= 20"
   ]
  },
  {
   "cell_type": "code",
   "execution_count": 19,
   "id": "5e5d3aa3",
   "metadata": {},
   "outputs": [
    {
     "data": {
      "text/plain": [
       "true"
      ]
     },
     "execution_count": 19,
     "metadata": {},
     "output_type": "execute_result"
    }
   ],
   "source": [
    "//equality\n",
    "20 == 20"
   ]
  },
  {
   "cell_type": "code",
   "execution_count": 20,
   "id": "d21934a6",
   "metadata": {},
   "outputs": [
    {
     "data": {
      "text/plain": [
       "false"
      ]
     },
     "execution_count": 20,
     "metadata": {},
     "output_type": "execute_result"
    }
   ],
   "source": [
    "//equality\n",
    "20 == 10"
   ]
  },
  {
   "cell_type": "code",
   "execution_count": 21,
   "id": "1c117e71",
   "metadata": {},
   "outputs": [
    {
     "data": {
      "text/plain": [
       "true"
      ]
     },
     "execution_count": 21,
     "metadata": {},
     "output_type": "execute_result"
    }
   ],
   "source": [
    "//equality\n",
    "20 == \"20\""
   ]
  },
  {
   "cell_type": "markdown",
   "id": "85f8bb36",
   "metadata": {},
   "source": [
    "In JavaScript, the == operator performs a loose equality comparison, allowing for type coercion. When comparing the number 20 and the string \"20\" using ==, JavaScript performs type coercion to try to make the operands compatible for comparison.\n",
    "\n",
    "In this case, JavaScript converts the string \"20\" to a number before performing the comparison. Since both operands are now numbers with the same value, the comparison evaluates to true. "
   ]
  },
  {
   "cell_type": "markdown",
   "id": "e5b58318",
   "metadata": {},
   "source": [
    "1. The comparison 20 == \"20\" is encountered.\n",
    "\n",
    "2. JavaScript notices that the operands have different types, so it performs type coercion to make them compatible for comparison.\n",
    "\n",
    "3. The string \"20\" is converted to a number, resulting in the numeric value 20.\n",
    "The comparison becomes 20 == 20.\n",
    "\n",
    "4. Both operands are now numbers with the same value, so the comparison evaluates to true."
   ]
  },
  {
   "cell_type": "code",
   "execution_count": 22,
   "id": "2521ba0b",
   "metadata": {},
   "outputs": [
    {
     "data": {
      "text/plain": [
       "true"
      ]
     },
     "execution_count": 22,
     "metadata": {},
     "output_type": "execute_result"
    }
   ],
   "source": [
    "//not equal\n",
    "10 != 20"
   ]
  },
  {
   "cell_type": "code",
   "execution_count": 23,
   "id": "f46ed454",
   "metadata": {},
   "outputs": [
    {
     "data": {
      "text/plain": [
       "false"
      ]
     },
     "execution_count": 23,
     "metadata": {},
     "output_type": "execute_result"
    }
   ],
   "source": [
    "//not equal\n",
    "10 != 10"
   ]
  },
  {
   "cell_type": "code",
   "execution_count": 24,
   "id": "6b962c8e",
   "metadata": {},
   "outputs": [
    {
     "data": {
      "text/plain": [
       "true"
      ]
     },
     "execution_count": 24,
     "metadata": {},
     "output_type": "execute_result"
    }
   ],
   "source": [
    "//strict equality\n",
    "20 === 20"
   ]
  },
  {
   "cell_type": "code",
   "execution_count": 25,
   "id": "b2505429",
   "metadata": {},
   "outputs": [
    {
     "data": {
      "text/plain": [
       "false"
      ]
     },
     "execution_count": 25,
     "metadata": {},
     "output_type": "execute_result"
    }
   ],
   "source": [
    "//strict equality\n",
    "20 === \"20\""
   ]
  },
  {
   "cell_type": "code",
   "execution_count": 26,
   "id": "e94ae25e",
   "metadata": {},
   "outputs": [
    {
     "data": {
      "text/plain": [
       "true"
      ]
     },
     "execution_count": 26,
     "metadata": {},
     "output_type": "execute_result"
    }
   ],
   "source": [
    "// strict non-equality\n",
    "20 !== \"20\""
   ]
  },
  {
   "cell_type": "code",
   "execution_count": 27,
   "id": "47005066",
   "metadata": {},
   "outputs": [
    {
     "data": {
      "text/plain": [
       "false"
      ]
     },
     "execution_count": 27,
     "metadata": {},
     "output_type": "execute_result"
    }
   ],
   "source": [
    "// strict non-equality\n",
    "20 !== 20"
   ]
  },
  {
   "cell_type": "code",
   "execution_count": 28,
   "id": "44343537",
   "metadata": {},
   "outputs": [
    {
     "data": {
      "text/plain": [
       "true"
      ]
     },
     "execution_count": 28,
     "metadata": {},
     "output_type": "execute_result"
    }
   ],
   "source": [
    "0 == false"
   ]
  },
  {
   "cell_type": "code",
   "execution_count": 29,
   "id": "8fe4d3b5",
   "metadata": {},
   "outputs": [
    {
     "data": {
      "text/plain": [
       "false"
      ]
     },
     "execution_count": 29,
     "metadata": {},
     "output_type": "execute_result"
    }
   ],
   "source": [
    "0 === false"
   ]
  },
  {
   "cell_type": "code",
   "execution_count": 30,
   "id": "1e415a72",
   "metadata": {},
   "outputs": [
    {
     "data": {
      "text/plain": [
       "false"
      ]
     },
     "execution_count": 30,
     "metadata": {},
     "output_type": "execute_result"
    }
   ],
   "source": [
    "12331 === true"
   ]
  },
  {
   "cell_type": "code",
   "execution_count": 31,
   "id": "3475981b",
   "metadata": {},
   "outputs": [
    {
     "data": {
      "text/plain": [
       "true"
      ]
     },
     "execution_count": 31,
     "metadata": {},
     "output_type": "execute_result"
    }
   ],
   "source": [
    "//equality\n",
    "1 == true"
   ]
  },
  {
   "cell_type": "code",
   "execution_count": 32,
   "id": "efa06d50",
   "metadata": {},
   "outputs": [
    {
     "data": {
      "text/plain": [
       "true"
      ]
     },
     "execution_count": 32,
     "metadata": {},
     "output_type": "execute_result"
    }
   ],
   "source": [
    "//equality\n",
    "\"1\" == true"
   ]
  },
  {
   "cell_type": "code",
   "execution_count": 33,
   "id": "d7aca149",
   "metadata": {},
   "outputs": [
    {
     "data": {
      "text/plain": [
       "false"
      ]
     },
     "execution_count": 33,
     "metadata": {},
     "output_type": "execute_result"
    }
   ],
   "source": [
    "//srtict equality\n",
    "\"1\" === true"
   ]
  },
  {
   "cell_type": "code",
   "execution_count": 34,
   "id": "48005c60",
   "metadata": {},
   "outputs": [
    {
     "data": {
      "text/plain": [
       "false"
      ]
     },
     "execution_count": 34,
     "metadata": {},
     "output_type": "execute_result"
    }
   ],
   "source": [
    "\"Harry\" == \"World\""
   ]
  },
  {
   "cell_type": "code",
   "execution_count": 35,
   "id": "b7bc3fe1",
   "metadata": {},
   "outputs": [
    {
     "data": {
      "text/plain": [
       "true"
      ]
     },
     "execution_count": 35,
     "metadata": {},
     "output_type": "execute_result"
    }
   ],
   "source": [
    "\"Harry\" != \"World\""
   ]
  },
  {
   "cell_type": "code",
   "execution_count": 36,
   "id": "d8c0f6b7",
   "metadata": {},
   "outputs": [
    {
     "data": {
      "text/plain": [
       "false"
      ]
     },
     "execution_count": 36,
     "metadata": {},
     "output_type": "execute_result"
    }
   ],
   "source": [
    "\"Harry\" === \"World\""
   ]
  },
  {
   "cell_type": "code",
   "execution_count": 37,
   "id": "19c6bd40",
   "metadata": {},
   "outputs": [
    {
     "data": {
      "text/plain": [
       "true"
      ]
     },
     "execution_count": 37,
     "metadata": {},
     "output_type": "execute_result"
    }
   ],
   "source": [
    "\"Harry\" !== \"World\""
   ]
  },
  {
   "cell_type": "code",
   "execution_count": 38,
   "id": "18883940",
   "metadata": {},
   "outputs": [
    {
     "data": {
      "text/plain": [
       "true"
      ]
     },
     "execution_count": 38,
     "metadata": {},
     "output_type": "execute_result"
    }
   ],
   "source": [
    "\"Harry\".Length == \"World\".Length"
   ]
  },
  {
   "cell_type": "markdown",
   "id": "ef9c2778",
   "metadata": {},
   "source": [
    "#### Assignment Operator\n",
    "The \"=\" operator is used to assign a value to a variable.\n",
    "Example:"
   ]
  },
  {
   "cell_type": "code",
   "execution_count": 39,
   "id": "3105a917",
   "metadata": {},
   "outputs": [],
   "source": [
    "let x = 5;"
   ]
  },
  {
   "cell_type": "code",
   "execution_count": 40,
   "id": "26bf2e44",
   "metadata": {},
   "outputs": [
    {
     "name": "stdout",
     "output_type": "stream",
     "text": [
      "5\n"
     ]
    }
   ],
   "source": [
    "console.log(x)"
   ]
  },
  {
   "cell_type": "markdown",
   "id": "670ddcd2",
   "metadata": {},
   "source": [
    "#### Equality Operator\n",
    "\n",
    "The \"==\" operator is used to compare values for equality, allowing type coercion (implicit type conversion) if necessary. It checks if the values on both sides of the operator are equal, after performing type conversions if needed."
   ]
  },
  {
   "cell_type": "code",
   "execution_count": 41,
   "id": "98eebe90",
   "metadata": {},
   "outputs": [
    {
     "name": "stdout",
     "output_type": "stream",
     "text": [
      "x and y are equal.\n"
     ]
    }
   ],
   "source": [
    "//let x = 5;\n",
    "let y = \"5\";\n",
    "\n",
    "if (x == y) {\n",
    "  console.log(\"x and y are equal.\");\n",
    "} else {\n",
    "  console.log(\"x and y are not equal.\");\n",
    "}"
   ]
  },
  {
   "cell_type": "markdown",
   "id": "da44fda5",
   "metadata": {},
   "source": [
    "#### Strict Equality Operator\n",
    "\n",
    "The === operator is used to compare values for strict equality, without performing any type coercion. \n",
    "It checks if the values on both sides of the operator are equal and have the same data type."
   ]
  },
  {
   "cell_type": "code",
   "execution_count": 42,
   "id": "eb874e88",
   "metadata": {},
   "outputs": [
    {
     "name": "stdout",
     "output_type": "stream",
     "text": [
      "x and y are not strictly equal.\n"
     ]
    }
   ],
   "source": [
    "//let x = 5;\n",
    "//let y = \"5\";\n",
    "\n",
    "if (x === y) {\n",
    "  console.log(\"x and y are strictly equal.\");\n",
    "} else {\n",
    "  console.log(\"x and y are not strictly equal.\");\n",
    "}"
   ]
  },
  {
   "cell_type": "markdown",
   "id": "6c859331",
   "metadata": {},
   "source": [
    "### 2. Console, Alert & Prompt"
   ]
  },
  {
   "cell_type": "code",
   "execution_count": 43,
   "id": "ca0cd96a",
   "metadata": {},
   "outputs": [
    {
     "name": "stderr",
     "output_type": "stream",
     "text": [
      "Warnings\n"
     ]
    }
   ],
   "source": [
    "console.warn(\"Warnings\")"
   ]
  },
  {
   "cell_type": "code",
   "execution_count": 44,
   "id": "f7d0cfbc",
   "metadata": {},
   "outputs": [
    {
     "name": "stderr",
     "output_type": "stream",
     "text": [
      "Error\n"
     ]
    }
   ],
   "source": [
    "console.error(\"Error\")"
   ]
  },
  {
   "cell_type": "code",
   "execution_count": null,
   "id": "81375468",
   "metadata": {},
   "outputs": [],
   "source": [
    "let userName = \"John\";\n",
    "let userAge = 25;\n",
    "\n",
    "// Using alert() to display a message\n",
    "alert(\"Hello, \" + userName + \"! You are \" + userAge + \" years old.\");\n",
    "\n",
    "// Using console.log() to display a message\n",
    "console.log(\"Hello, \" + userName + \"! You are \" + userAge + \" years old.\");"
   ]
  },
  {
   "cell_type": "markdown",
   "id": "92151098",
   "metadata": {},
   "source": [
    "### 3. Conditional statements"
   ]
  },
  {
   "cell_type": "markdown",
   "id": "470ceee4",
   "metadata": {},
   "source": [
    "#### Example 1"
   ]
  },
  {
   "cell_type": "markdown",
   "id": "24a0d73f",
   "metadata": {},
   "source": [
    "We have a variable age with a value of 18. The if statement checks if the age is greater than or equal to 18. If the condition is true, it executes the code block within the first set of curly braces, which in this case logs \"You are old enough to vote!\" to the console. If the condition is false, it executes the code block within the else statement, which logs \"Sorry, you must be at least 18 years old to vote.\""
   ]
  },
  {
   "cell_type": "code",
   "execution_count": 45,
   "id": "44de1e98",
   "metadata": {},
   "outputs": [
    {
     "name": "stdout",
     "output_type": "stream",
     "text": [
      "You are old enough to vote!\n"
     ]
    }
   ],
   "source": [
    "let age = 18;\n",
    "if (age>= 18){\n",
    "    console.log(\"You are old enough to vote!\");\n",
    "}else{\n",
    "    console.log(\"Sorry, you must be at least 18 year old to vote.\")\n",
    "}"
   ]
  },
  {
   "cell_type": "markdown",
   "id": "68c8e77e",
   "metadata": {},
   "source": [
    "#### Example 2"
   ]
  },
  {
   "cell_type": "markdown",
   "id": "5c3dd6a0",
   "metadata": {},
   "source": [
    "The user is prompted to enter the current weather. The input is stored in the weather variable. The if-else if-else statement then checks the value of weather and executes the corresponding code block based on the condition.\n",
    "\n",
    "If the weather is \"sunny\", it logs \"It's a beautiful day!\" to the console. If the weather is \"rainy\", it logs \"Remember to take an umbrella!\" If the weather is \"cloudy\", it logs \"It might be a bit gloomy today.\" If none of the specified conditions are met, the else statement is triggered, and it logs \"Sorry, I don't recognize that weather.\""
   ]
  },
  {
   "cell_type": "code",
   "execution_count": 46,
   "id": "4d174f55",
   "metadata": {},
   "outputs": [
    {
     "name": "stdout",
     "output_type": "stream",
     "text": [
      "It might be a bit gloomy today.\n"
     ]
    }
   ],
   "source": [
    "let weather = \"cloudy\"\n",
    "\n",
    "if (weather === \"sunny\") {\n",
    "  console.log(\"It's a beautiful day!\");\n",
    "} else if (weather === \"rainy\") {\n",
    "  console.log(\"Remember to take an umbrella!\");\n",
    "} else if (weather === \"cloudy\") {\n",
    "  console.log(\"It might be a bit gloomy today.\");\n",
    "} else {\n",
    "  console.log(\"Sorry, I don't recognize that weather.\");\n",
    "}"
   ]
  },
  {
   "cell_type": "markdown",
   "id": "c19ab078",
   "metadata": {},
   "source": [
    "#### Example 3"
   ]
  },
  {
   "cell_type": "markdown",
   "id": "1653d858",
   "metadata": {},
   "source": [
    "Binary Classification Model"
   ]
  },
  {
   "cell_type": "code",
   "execution_count": 47,
   "id": "847316df",
   "metadata": {},
   "outputs": [
    {
     "data": {
      "text/plain": [
       "0.5597980543196808"
      ]
     },
     "execution_count": 47,
     "metadata": {},
     "output_type": "execute_result"
    }
   ],
   "source": [
    "num = Math.random()"
   ]
  },
  {
   "cell_type": "code",
   "execution_count": 48,
   "id": "b5dfb070",
   "metadata": {},
   "outputs": [
    {
     "name": "stdout",
     "output_type": "stream",
     "text": [
      "One\n"
     ]
    }
   ],
   "source": [
    "if (num >= 0.5){\n",
    "    console.log(\"One\")\n",
    "}else{\n",
    "    console.log(\"Zero\")\n",
    "}"
   ]
  },
  {
   "cell_type": "code",
   "execution_count": 49,
   "id": "d487e5c5",
   "metadata": {},
   "outputs": [
    {
     "name": "stdout",
     "output_type": "stream",
     "text": [
      "Classification 1: Zero\n",
      "Classification 2: One\n",
      "Classification 3: One\n",
      "Classification 4: Zero\n",
      "Classification 5: Zero\n",
      "Classification 6: One\n",
      "Classification 7: One\n",
      "Classification 8: Zero\n",
      "Classification 9: One\n",
      "Classification 10: One\n"
     ]
    }
   ],
   "source": [
    "for (let i = 1; i <= 10; i++) {\n",
    "  let num = Math.random();\n",
    "  \n",
    "  if (num >= 0.5) {\n",
    "    console.log(\"Classification \" + i + \": One\");\n",
    "  } else {\n",
    "    console.log(\"Classification \" + i + \": Zero\");\n",
    "  }\n",
    "}"
   ]
  },
  {
   "cell_type": "code",
   "execution_count": 50,
   "id": "d18db6d2",
   "metadata": {},
   "outputs": [
    {
     "name": "stdout",
     "output_type": "stream",
     "text": [
      "Classification 1: Zero\n",
      "Classification 2: Zero\n",
      "Classification 3: Zero\n",
      "Classification 4: One\n",
      "Classification 5: One\n",
      "Classification 6: Zero\n",
      "Classification 7: One\n",
      "Classification 8: One\n",
      "Classification 9: One\n",
      "Classification 10: One\n"
     ]
    }
   ],
   "source": [
    "for (let i = 1; i <= 10; i++) {\n",
    "  let num = Math.random();\n",
    "  \n",
    "  if (num >= 0.5) {\n",
    "    console.log(\"Classification \" + i + \": One\");\n",
    "  } else {\n",
    "    console.log(\"Classification \" + i + \": Zero\");\n",
    "  }\n",
    "}"
   ]
  },
  {
   "cell_type": "markdown",
   "id": "baef3a38",
   "metadata": {},
   "source": [
    "#### IF, IF ELSE & ELSE"
   ]
  },
  {
   "cell_type": "markdown",
   "id": "98772b09",
   "metadata": {},
   "source": [
    "#### Example 4"
   ]
  },
  {
   "cell_type": "code",
   "execution_count": 51,
   "id": "ee463261",
   "metadata": {},
   "outputs": [
    {
     "name": "stdout",
     "output_type": "stream",
     "text": [
      "Classification 1: B\n",
      "Classification 2: B\n",
      "Classification 3: B\n",
      "Classification 4: C\n",
      "Classification 5: A\n",
      "Classification 6: A\n",
      "Classification 7: B\n",
      "Classification 8: B\n",
      "Classification 9: A\n",
      "Classification 10: C\n"
     ]
    }
   ],
   "source": [
    "for (let i = 1; i <= 10; i++) {\n",
    "  let num = Math.random();\n",
    "\n",
    "  if (num >= 0.7) {\n",
    "    console.log(\"Classification \" + i + \": A\");\n",
    "  } else if (num >= 0.4) {\n",
    "    console.log(\"Classification \" + i + \": B\");\n",
    "  } else {\n",
    "    console.log(\"Classification \" + i + \": C\");\n",
    "  }\n",
    "}"
   ]
  },
  {
   "cell_type": "code",
   "execution_count": 52,
   "id": "b74086a8",
   "metadata": {},
   "outputs": [
    {
     "name": "stdout",
     "output_type": "stream",
     "text": [
      "Classification 1: Your age is 80. You are eligible to vote.\n",
      "Classification 2: Your age is 63. You are eligible to vote.\n",
      "Classification 3: Your age is 11. You are not eligible to vote.\n",
      "Classification 4: Your age is 73. You are eligible to vote.\n",
      "Classification 5: Your age is 82. You are eligible to vote.\n",
      "Classification 6: Your age is 50. You are eligible to vote.\n",
      "Classification 7: Your age is 73. You are eligible to vote.\n",
      "Classification 8: Your age is 58. You are eligible to vote.\n",
      "Classification 9: Your age is 2. You are not eligible to vote.\n",
      "Classification 10: Your age is 83. You are eligible to vote.\n"
     ]
    }
   ],
   "source": [
    "for (let i = 1; i <= 10; i++) {\n",
    "  let random = Math.random();\n",
    "  let age = Math.floor(random * 100);\n",
    "\n",
    "  if (age >= 18) {\n",
    "    console.log(`Classification ${i}: Your age is ${age}. You are eligible to vote.`);\n",
    "  } else if (age === 17) {\n",
    "    console.log(`Classification ${i}: Your age is ${age}. You will be eligible to vote next year.`);\n",
    "  } else {\n",
    "    console.log(`Classification ${i}: Your age is ${age}. You are not eligible to vote.`);\n",
    "  }\n",
    "}"
   ]
  },
  {
   "cell_type": "markdown",
   "id": "39f0e653",
   "metadata": {},
   "source": [
    "#### Nested Conditionals"
   ]
  },
  {
   "cell_type": "markdown",
   "id": "fa0ad940",
   "metadata": {},
   "source": [
    "#### Example 5"
   ]
  },
  {
   "cell_type": "code",
   "execution_count": 53,
   "id": "0ef999f9",
   "metadata": {},
   "outputs": [
    {
     "name": "stdout",
     "output_type": "stream",
     "text": [
      "Password cannot contain spaces\n"
     ]
    }
   ],
   "source": [
    "let password = \"co der\"\n",
    "if (password.length>=5){\n",
    "    if(password.indexOf(' ') !== -1){\n",
    "        console.log(\"Password cannot contain spaces\");\n",
    "    }\n",
    "    else{\n",
    "        console.log(\"Valid password\");\n",
    "    }\n",
    "}\n",
    "else{\n",
    "    console.log(\"Password too short!\");\n",
    "}"
   ]
  },
  {
   "cell_type": "code",
   "execution_count": 54,
   "id": "b7883bdd",
   "metadata": {},
   "outputs": [
    {
     "name": "stdout",
     "output_type": "stream",
     "text": [
      "Valid password\n"
     ]
    }
   ],
   "source": [
    "let passwordTwo = \"codex\"\n",
    "if (passwordTwo.length>=5){\n",
    "    if(passwordTwo.indexOf(' ') !== -1){\n",
    "        console.log(\"Password cannot contain spaces\");\n",
    "    }\n",
    "    else{\n",
    "        console.log(\"Valid password\");\n",
    "    }\n",
    "}\n",
    "else{\n",
    "    console.log(\"Password too short!\");\n",
    "}"
   ]
  },
  {
   "cell_type": "code",
   "execution_count": 55,
   "id": "7ae2dbac",
   "metadata": {},
   "outputs": [
    {
     "name": "stdout",
     "output_type": "stream",
     "text": [
      "Password too short!\n"
     ]
    }
   ],
   "source": [
    "let passwordThree = \"code\"\n",
    "if (passwordThree.length>=5){\n",
    "    if(passwordThree.indexOf(' ') !== -1){\n",
    "        console.log(\"Password cannot contain spaces\");\n",
    "    }\n",
    "    else{\n",
    "        console.log(\"Valid password\");\n",
    "    }\n",
    "}\n",
    "else{\n",
    "    console.log(\"Password too short!\");\n",
    "}"
   ]
  },
  {
   "cell_type": "markdown",
   "id": "a293b137",
   "metadata": {},
   "source": [
    "### 4. Truthy and Flasy Value"
   ]
  },
  {
   "cell_type": "markdown",
   "id": "2a399fc3",
   "metadata": {},
   "source": [
    "#### A) - All JS values have an inherent truthyness or falsyness abou them\n",
    "\n",
    "#### B) -  Falsy Values:\n",
    "\n",
    "false\n",
    "\n",
    "0\n",
    "\n",
    "\"\"(empty string)\n",
    "\n",
    "null\n",
    "\n",
    "undefined\n",
    "\n",
    "NaN\n",
    "\n",
    "#### C) - Everything else is thuthy!"
   ]
  },
  {
   "cell_type": "code",
   "execution_count": 56,
   "id": "3afa7195",
   "metadata": {},
   "outputs": [
    {
     "name": "stdout",
     "output_type": "stream",
     "text": [
      "Falsy!\n"
     ]
    }
   ],
   "source": [
    "const input = false\n",
    "// If will print Truthly \n",
    "if (input){\n",
    "    console.log(\"Truthy!\")\n",
    "}\n",
    "// else will print Falsy\n",
    "else{\n",
    "    console.log(\"Falsy!\")\n",
    "}"
   ]
  },
  {
   "cell_type": "code",
   "execution_count": 57,
   "id": "34292f33",
   "metadata": {},
   "outputs": [
    {
     "name": "stdout",
     "output_type": "stream",
     "text": [
      "Falsy!\n"
     ]
    }
   ],
   "source": [
    "const inputTwo = NaN\n",
    "\n",
    "if (inputTwo){\n",
    "    console.log(\"Truthy!\")\n",
    "}\n",
    "else{\n",
    "    console.log(\"Falsy!\")\n",
    "}"
   ]
  },
  {
   "cell_type": "code",
   "execution_count": 58,
   "id": "e68479c9",
   "metadata": {},
   "outputs": [
    {
     "name": "stdout",
     "output_type": "stream",
     "text": [
      "Falsy!\n"
     ]
    }
   ],
   "source": [
    "const inputThree = undefined\n",
    "\n",
    "if (inputThree){\n",
    "    console.log(\"Truthy!\")\n",
    "}\n",
    "else{\n",
    "    console.log(\"Falsy!\")\n",
    "}"
   ]
  },
  {
   "cell_type": "code",
   "execution_count": 59,
   "id": "df72241a",
   "metadata": {},
   "outputs": [
    {
     "name": "stdout",
     "output_type": "stream",
     "text": [
      "Truthy!\n"
     ]
    }
   ],
   "source": [
    "const inputFour = 1\n",
    "\n",
    "if (inputFour){\n",
    "    console.log(\"Truthy!\")\n",
    "}\n",
    "else{\n",
    "    console.log(\"Falsy!\")\n",
    "}"
   ]
  },
  {
   "cell_type": "code",
   "execution_count": 60,
   "id": "3212c6f9",
   "metadata": {},
   "outputs": [
    {
     "name": "stdout",
     "output_type": "stream",
     "text": [
      "Falsy!\n"
     ]
    }
   ],
   "source": [
    "const inputFive = \"\"\n",
    "\n",
    "if (inputFive){\n",
    "    console.log(\"Truthy!\")\n",
    "}\n",
    "else{\n",
    "    console.log(\"Falsy!\")\n",
    "}"
   ]
  },
  {
   "cell_type": "code",
   "execution_count": 61,
   "id": "a3f70fec",
   "metadata": {},
   "outputs": [
    {
     "name": "stdout",
     "output_type": "stream",
     "text": [
      "Falsy!\n"
     ]
    }
   ],
   "source": [
    "const inputSix = null\n",
    "\n",
    "if (inputSix){\n",
    "    console.log(\"Truthy!\")\n",
    "}\n",
    "else{\n",
    "    console.log(\"Falsy!\")\n",
    "}"
   ]
  },
  {
   "cell_type": "markdown",
   "id": "c437b4d2",
   "metadata": {},
   "source": [
    "### 5. Logical Operators (&&, ||, !)"
   ]
  },
  {
   "cell_type": "markdown",
   "id": "171f8cef",
   "metadata": {},
   "source": [
    "#### AND"
   ]
  },
  {
   "cell_type": "markdown",
   "id": "fb18c0b3",
   "metadata": {},
   "source": [
    "The AND operator in JavaScript is represented by two ampersands (&&). It is a binary operator that returns true only if both operands are true, and false otherwise. "
   ]
  },
  {
   "cell_type": "code",
   "execution_count": 62,
   "id": "97f50ce1",
   "metadata": {},
   "outputs": [
    {
     "data": {
      "text/plain": [
       "true"
      ]
     },
     "execution_count": 62,
     "metadata": {},
     "output_type": "execute_result"
    }
   ],
   "source": [
    "1 <= 4 && 'a' === 'a'; //true"
   ]
  },
  {
   "cell_type": "code",
   "execution_count": 63,
   "id": "3801f909",
   "metadata": {},
   "outputs": [
    {
     "data": {
      "text/plain": [
       "false"
      ]
     },
     "execution_count": 63,
     "metadata": {},
     "output_type": "execute_result"
    }
   ],
   "source": [
    "9 > 10 && 9 >=9; //false"
   ]
  },
  {
   "cell_type": "code",
   "execution_count": 64,
   "id": "afe0abee",
   "metadata": {},
   "outputs": [
    {
     "data": {
      "text/plain": [
       "false"
      ]
     },
     "execution_count": 64,
     "metadata": {},
     "output_type": "execute_result"
    }
   ],
   "source": [
    "'abc'.length === 3 && 1+1 === 4; //false"
   ]
  },
  {
   "cell_type": "code",
   "execution_count": 65,
   "id": "dd1c3b06",
   "metadata": {},
   "outputs": [
    {
     "name": "stdout",
     "output_type": "stream",
     "text": [
      "Incorrect Format for password!\n"
     ]
    }
   ],
   "source": [
    "const pwd = \"Hello\"\n",
    "      if (pwd.length>= 6 && pwd.indexOf(' ')===-1){\n",
    "          console.log(\"Valid Password!\")\n",
    "      }else{\n",
    "          console.log(\"Incorrect Format for password!\")\n",
    "      }"
   ]
  },
  {
   "cell_type": "code",
   "execution_count": 66,
   "id": "2a2e7aef",
   "metadata": {},
   "outputs": [
    {
     "name": "stdout",
     "output_type": "stream",
     "text": [
      "Valid Password!\n"
     ]
    }
   ],
   "source": [
    "const pwdTwo = \"HelloWorld!\"\n",
    "      if (pwdTwo.length>= 6 && pwdTwo.indexOf(' ')===-1){\n",
    "          console.log(\"Valid Password!\")\n",
    "      }else{\n",
    "          console.log(\"Incorrect Format for password!\")\n",
    "      }"
   ]
  },
  {
   "cell_type": "markdown",
   "id": "c6b4f84d",
   "metadata": {},
   "source": [
    "### OR"
   ]
  },
  {
   "cell_type": "markdown",
   "id": "ab9dc97b",
   "metadata": {},
   "source": [
    "The OR operator in JavaScript is represented by two vertical bars (||). It is a binary operator that returns true if at least one of the operands is true, and false otherwise. "
   ]
  },
  {
   "cell_type": "code",
   "execution_count": 67,
   "id": "01222595",
   "metadata": {},
   "outputs": [
    {
     "data": {
      "text/plain": [
       "true"
      ]
     },
     "execution_count": 67,
     "metadata": {},
     "output_type": "execute_result"
    }
   ],
   "source": [
    "1 !== 1 || 10 === 10"
   ]
  },
  {
   "cell_type": "code",
   "execution_count": 68,
   "id": "7252abd6",
   "metadata": {},
   "outputs": [
    {
     "data": {
      "text/plain": [
       "true"
      ]
     },
     "execution_count": 68,
     "metadata": {},
     "output_type": "execute_result"
    }
   ],
   "source": [
    "10/2 === 5 || null"
   ]
  },
  {
   "cell_type": "code",
   "execution_count": 69,
   "id": "1877f9b3",
   "metadata": {},
   "outputs": [],
   "source": [
    "0 || undefined //false"
   ]
  },
  {
   "cell_type": "code",
   "execution_count": 70,
   "id": "ff01b2e8",
   "metadata": {},
   "outputs": [
    {
     "name": "stdout",
     "output_type": "stream",
     "text": [
      "Free\n"
     ]
    }
   ],
   "source": [
    "const personAge = 90;\n",
    "    if (personAge<5 || personAge >=65){\n",
    "        console.log(\"Free\");\n",
    "    }\n",
    "    else if (personAge<10)\n",
    "    {\n",
    "        console.log(\"$10\");\n",
    "    }\n",
    "    else if (personAge<65)\n",
    "    {\n",
    "        console.log(\"$15\");\n",
    "}"
   ]
  },
  {
   "cell_type": "code",
   "execution_count": 71,
   "id": "0d3c7072",
   "metadata": {},
   "outputs": [
    {
     "name": "stdout",
     "output_type": "stream",
     "text": [
      "$15\n"
     ]
    }
   ],
   "source": [
    "const secondPersonAge = 11;\n",
    "    if (secondPersonAge<5 || secondPersonAge >=65){\n",
    "        console.log(\"Free\");\n",
    "    }\n",
    "    else if (secondPersonAge<10)\n",
    "    {\n",
    "        console.log(\"$10\");\n",
    "    }\n",
    "    else if (secondPersonAge<65)\n",
    "    {\n",
    "        console.log(\"$15\");\n",
    "}"
   ]
  },
  {
   "cell_type": "code",
   "execution_count": 72,
   "id": "69e246f0",
   "metadata": {},
   "outputs": [
    {
     "ename": "SyntaxError",
     "evalue": "Identifier 'isSunny' has already been declared",
     "output_type": "error",
     "traceback": [
      "evalmachine.<anonymous>:1",
      "let isSunny = true;",
      "^",
      "",
      "SyntaxError: Identifier 'isSunny' has already been declared",
      "    at Script.runInThisContext (node:vm:122:12)",
      "    at Object.runInThisContext (node:vm:300:38)",
      "    at run ([eval]:1020:15)",
      "    at onRunRequest ([eval]:864:18)",
      "    at onMessage ([eval]:828:13)",
      "    at process.emit (node:events:511:28)",
      "    at emit (node:internal/child_process:944:14)",
      "    at process.processTicksAndRejections (node:internal/process/task_queues:83:21)"
     ]
    }
   ],
   "source": [
    "let isSunny = true;\n",
    "let isWarm = false;\n",
    "\n",
    "// Using the OR operator to combine two boolean expressions\n",
    "let isGoodWeather = isSunny || isWarm;\n",
    "\n",
    "console.log(\"Is it sunny?\", isSunny);     // Output: Is it sunny? true\n",
    "console.log(\"Is it warm?\", isWarm);       // Output: Is it warm? false\n",
    "console.log(\"Is it good weather?\", isGoodWeather); // Output: Is it good weather? true"
   ]
  },
  {
   "cell_type": "markdown",
   "id": "961e9359",
   "metadata": {},
   "source": [
    "In this example, we have two variables isSunny and isWarm with boolean values. By applying the OR operator (||) to isSunny and isWarm, we assign the result to the variable isGoodWeather.\n",
    "\n",
    "The console.log() statements then output the values of isSunny, isWarm, and isGoodWeather. Since isSunny is true and isWarm is false, isGoodWeather will be true because at least one of the operands is true."
   ]
  },
  {
   "cell_type": "markdown",
   "id": "f938e172",
   "metadata": {},
   "source": [
    "#### NOT"
   ]
  },
  {
   "cell_type": "markdown",
   "id": "8aba40d1",
   "metadata": {},
   "source": [
    "The NOT operator in JavaScript is represented by the exclamation mark (!). It is a unary operator that negates the value of a boolean expression. "
   ]
  },
  {
   "cell_type": "code",
   "execution_count": 73,
   "id": "1e459716",
   "metadata": {},
   "outputs": [
    {
     "data": {
      "text/plain": [
       "true"
      ]
     },
     "execution_count": 73,
     "metadata": {},
     "output_type": "execute_result"
    }
   ],
   "source": [
    "!null"
   ]
  },
  {
   "cell_type": "code",
   "execution_count": 74,
   "id": "d17897f9",
   "metadata": {},
   "outputs": [
    {
     "data": {
      "text/plain": [
       "false"
      ]
     },
     "execution_count": 74,
     "metadata": {},
     "output_type": "execute_result"
    }
   ],
   "source": [
    "!(0 === 0)"
   ]
  },
  {
   "cell_type": "code",
   "execution_count": 75,
   "id": "dab80335",
   "metadata": {},
   "outputs": [
    {
     "data": {
      "text/plain": [
       "false"
      ]
     },
     "execution_count": 75,
     "metadata": {},
     "output_type": "execute_result"
    }
   ],
   "source": [
    "!(3 <= 4) "
   ]
  },
  {
   "cell_type": "code",
   "execution_count": 76,
   "id": "50d348f9",
   "metadata": {},
   "outputs": [
    {
     "ename": "SyntaxError",
     "evalue": "Identifier 'isRaining' has already been declared",
     "output_type": "error",
     "traceback": [
      "evalmachine.<anonymous>:1",
      "let isRaining = false;",
      "^",
      "",
      "SyntaxError: Identifier 'isRaining' has already been declared",
      "    at Script.runInThisContext (node:vm:122:12)",
      "    at Object.runInThisContext (node:vm:300:38)",
      "    at run ([eval]:1020:15)",
      "    at onRunRequest ([eval]:864:18)",
      "    at onMessage ([eval]:828:13)",
      "    at process.emit (node:events:511:28)",
      "    at emit (node:internal/child_process:944:14)",
      "    at process.processTicksAndRejections (node:internal/process/task_queues:83:21)"
     ]
    }
   ],
   "source": [
    "let isRaining = false;\n",
    "\n",
    "// Using the NOT operator to negate the boolean value\n",
    "let isNotRaining = !isRaining;\n",
    "\n",
    "console.log(\"Is it raining?\", isRaining);      // Output: Is it raining? false\n",
    "console.log(\"Is it not raining?\", isNotRaining); // Output: Is it not raining? true"
   ]
  },
  {
   "cell_type": "markdown",
   "id": "9a452591",
   "metadata": {},
   "source": [
    "In this example, we have a variable isRaining set to false. By applying the NOT operator (!) to isRaining, we assign the negated value to the variable isNotRaining.\n",
    "\n",
    "The console.log() statements then output the values of isRaining and isNotRaining. Since isRaining is false, isNotRaining will be true because the NOT operator negates the value."
   ]
  },
  {
   "cell_type": "markdown",
   "id": "7cb35ce8",
   "metadata": {},
   "source": [
    "## Reference"
   ]
  },
  {
   "cell_type": "markdown",
   "id": "a39ef742",
   "metadata": {},
   "source": [
    "https://developer.mozilla.org/en-US/docs/Web/JavaScript"
   ]
  }
 ],
 "metadata": {
  "kernelspec": {
   "display_name": "JavaScript (Node.js)",
   "language": "javascript",
   "name": "javascript"
  },
  "language_info": {
   "file_extension": ".js",
   "mimetype": "application/javascript",
   "name": "javascript",
   "version": "20.0.0"
  }
 },
 "nbformat": 4,
 "nbformat_minor": 5
}
