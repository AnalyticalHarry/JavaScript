{
 "cells": [
  {
   "attachments": {},
   "cell_type": "markdown",
   "metadata": {},
   "source": [
    "## OBJECTS"
   ]
  },
  {
   "attachments": {},
   "cell_type": "markdown",
   "metadata": {},
   "source": [
    "Hemant Thapa"
   ]
  },
  {
   "attachments": {},
   "cell_type": "markdown",
   "metadata": {},
   "source": [
    "Objects are collections of properties.\n",
    "\n",
    "Properties are a key-value pair\n",
    "\n",
    "Rather than accessing data using an index, we use custom keys."
   ]
  },
  {
   "cell_type": "code",
   "execution_count": 1,
   "metadata": {},
   "outputs": [],
   "source": [
    "//Creating a dataset\n",
    "const fitBitData = {\n",
    "    totalSteps: 308727,\n",
    "    totalMiles: 211.7,\n",
    "    avgCalorieBurn: 5755,\n",
    "    workOutsThisWeek: '5 of 7',\n",
    "    avgGoodSleep: '2:13'\n",
    "}"
   ]
  },
  {
   "cell_type": "code",
   "execution_count": 2,
   "metadata": {},
   "outputs": [
    {
     "name": "stdout",
     "output_type": "stream",
     "text": [
      "{\n",
      "  totalSteps: 308727,\n",
      "  totalMiles: 211.7,\n",
      "  avgCalorieBurn: 5755,\n",
      "  workOutsThisWeek: '5 of 7',\n",
      "  avgGoodSleep: '2:13'\n",
      "}\n"
     ]
    }
   ],
   "source": [
    "console.log(fitBitData)"
   ]
  },
  {
   "cell_type": "code",
   "execution_count": 3,
   "metadata": {},
   "outputs": [
    {
     "data": {
      "text/plain": [
       "'object'"
      ]
     },
     "execution_count": 3,
     "metadata": {},
     "output_type": "execute_result"
    }
   ],
   "source": [
    "typeof[]"
   ]
  },
  {
   "cell_type": "code",
   "execution_count": 4,
   "metadata": {},
   "outputs": [
    {
     "data": {
      "text/plain": [
       "'object'"
      ]
     },
     "execution_count": 4,
     "metadata": {},
     "output_type": "execute_result"
    }
   ],
   "source": [
    "typeof fitBitData"
   ]
  },
  {
   "cell_type": "code",
   "execution_count": 5,
   "metadata": {},
   "outputs": [
    {
     "name": "stdout",
     "output_type": "stream",
     "text": [
      "totalSteps: 308727\n",
      "totalMiles: 211.7\n",
      "avgCalorieBurn: 5755\n",
      "workOutsThisWeek: 5 of 7\n",
      "avgGoodSleep: 2:13\n"
     ]
    }
   ],
   "source": [
    "// creating for loop to print dataset\n",
    "for (const [key, value] of Object.entries(fitBitData)) {\n",
    "    console.log(`${key}: ${value}`);\n",
    "  }"
   ]
  },
  {
   "cell_type": "code",
   "execution_count": 6,
   "metadata": {},
   "outputs": [
    {
     "name": "stdout",
     "output_type": "stream",
     "text": [
      "totalSteps : 308727\n",
      "totalMiles : 211.7\n",
      "avgCalorieBurn : 5755\n",
      "workOutsThisWeek : 5 of 7\n",
      "avgGoodSleep : 2:13\n"
     ]
    }
   ],
   "source": [
    "for (const [i,j] of Object.entries(fitBitData)){\n",
    "    console.log(i,\":\",j)\n",
    "}"
   ]
  },
  {
   "cell_type": "code",
   "execution_count": 7,
   "metadata": {},
   "outputs": [
    {
     "data": {
      "text/plain": [
       "308727"
      ]
     },
     "execution_count": 7,
     "metadata": {},
     "output_type": "execute_result"
    }
   ],
   "source": [
    "//Accesing data out of objects\n",
    "fitBitData[\"totalSteps\"]"
   ]
  },
  {
   "cell_type": "code",
   "execution_count": 8,
   "metadata": {},
   "outputs": [
    {
     "data": {
      "text/plain": [
       "308727"
      ]
     },
     "execution_count": 8,
     "metadata": {},
     "output_type": "execute_result"
    }
   ],
   "source": [
    "fitBitData.totalSteps"
   ]
  },
  {
   "cell_type": "code",
   "execution_count": 9,
   "metadata": {},
   "outputs": [
    {
     "data": {
      "text/plain": [
       "211.7"
      ]
     },
     "execution_count": 9,
     "metadata": {},
     "output_type": "execute_result"
    }
   ],
   "source": [
    "fitBitData.totalMiles"
   ]
  },
  {
   "cell_type": "code",
   "execution_count": 10,
   "metadata": {},
   "outputs": [
    {
     "name": "stdout",
     "output_type": "stream",
     "text": [
      "totalSteps\n",
      "totalMiles\n",
      "avgCalorieBurn\n",
      "workOutsThisWeek\n",
      "avgGoodSleep\n"
     ]
    }
   ],
   "source": [
    "const keys = Object.keys(fitBitData);\n",
    "\n",
    "for (const key of keys) {\n",
    "  console.log(key);\n",
    "}"
   ]
  },
  {
   "cell_type": "code",
   "execution_count": 11,
   "metadata": {},
   "outputs": [
    {
     "name": "stdout",
     "output_type": "stream",
     "text": [
      "totalSteps\n",
      "totalMiles\n",
      "avgCalorieBurn\n",
      "workOutsThisWeek\n",
      "avgGoodSleep\n"
     ]
    }
   ],
   "source": [
    "for (const i of Object.keys(fitBitData)) {\n",
    "    console.log(i);\n",
    "}"
   ]
  },
  {
   "cell_type": "code",
   "execution_count": 12,
   "metadata": {},
   "outputs": [
    {
     "name": "stdout",
     "output_type": "stream",
     "text": [
      "308727\n",
      "211.7\n",
      "5755\n",
      "5 of 7\n",
      "2:13\n"
     ]
    }
   ],
   "source": [
    "const values = Object.values(fitBitData);\n",
    "\n",
    "for (const value of values) {\n",
    "  console.log(value);\n",
    "}"
   ]
  },
  {
   "cell_type": "code",
   "execution_count": 13,
   "metadata": {},
   "outputs": [
    {
     "name": "stdout",
     "output_type": "stream",
     "text": [
      "308727\n",
      "211.7\n",
      "5755\n",
      "5 of 7\n",
      "2:13\n"
     ]
    }
   ],
   "source": [
    "for (const j of Object.values(fitBitData)){\n",
    "    console.log(j)\n",
    "}"
   ]
  },
  {
   "cell_type": "code",
   "execution_count": 14,
   "metadata": {},
   "outputs": [],
   "source": [
    "//Updating information or Modifying Objects\n",
    "const midterms ={\n",
    "        \"Daniel\": 67,\n",
    "        \"Lana\": 90,\n",
    "        \"John\": 68,\n",
    "        \"Rown\":65,\n",
    "        \"Ria\": 85\n",
    "}"
   ]
  },
  {
   "cell_type": "code",
   "execution_count": 15,
   "metadata": {},
   "outputs": [
    {
     "data": {
      "text/plain": [
       "88"
      ]
     },
     "execution_count": 15,
     "metadata": {},
     "output_type": "execute_result"
    }
   ],
   "source": [
    "//Changing grade of Ria = 88\n",
    "midterms.Ria = 88"
   ]
  },
  {
   "cell_type": "code",
   "execution_count": 16,
   "metadata": {},
   "outputs": [
    {
     "data": {
      "text/plain": [
       "77"
      ]
     },
     "execution_count": 16,
     "metadata": {},
     "output_type": "execute_result"
    }
   ],
   "source": [
    "midterms[\"Daniel\"] = 77"
   ]
  },
  {
   "cell_type": "code",
   "execution_count": 17,
   "metadata": {},
   "outputs": [
    {
     "data": {
      "text/plain": [
       "{ Daniel: 77, Lana: 90, John: 68, Rown: 65, Ria: 88 }"
      ]
     },
     "execution_count": 17,
     "metadata": {},
     "output_type": "execute_result"
    }
   ],
   "source": [
    "midterms"
   ]
  },
  {
   "cell_type": "code",
   "execution_count": 18,
   "metadata": {},
   "outputs": [],
   "source": [
    "// for (let i = 0; i < Object.keys(midterms).length; i++) {\n",
    "//     const key = Object.keys(midterms)[i];\n",
    "//     const value = midterms[key];\n",
    "    \n",
    "//     if (value >= 70) {\n",
    "//       midterms[key] = \"A\";\n",
    "//     } else {\n",
    "//       midterms[key] = \"B\";\n",
    "//     }\n",
    "//   }\n",
    "  \n",
    "//   console.log(midterms);\n",
    "  "
   ]
  },
  {
   "cell_type": "code",
   "execution_count": 19,
   "metadata": {},
   "outputs": [
    {
     "name": "stdout",
     "output_type": "stream",
     "text": [
      "Daniel 77\n",
      "Lana 90\n",
      "John 68\n",
      "Rown 65\n",
      "Ria 88\n",
      "{ Daniel: 'A', Lana: 'A', John: 'B', Rown: 'B', Ria: 'A' }\n"
     ]
    }
   ],
   "source": [
    "for (let i = 0; i< Object.keys(midterms).length; i++){\n",
    "    const key = Object.keys(midterms)[i];\n",
    "    const value = Object.values(midterms)[i];\n",
    "    console.log(key, value)\n",
    "    \n",
    "    if(value>= 70){\n",
    "        midterms[key] = \"A\";\n",
    "    }\n",
    "    else{\n",
    "        midterms[key] = \"B\";\n",
    "    } \n",
    "}\n",
    "console.log(midterms)"
   ]
  },
  {
   "cell_type": "code",
   "execution_count": 20,
   "metadata": {},
   "outputs": [
    {
     "name": "stdout",
     "output_type": "stream",
     "text": [
      "{ Daniel: 'A', Lana: 'A', John: 'B', Rown: 'B', Ria: 'A' }\n"
     ]
    }
   ],
   "source": [
    "console.log(midterms)"
   ]
  },
  {
   "cell_type": "code",
   "execution_count": 21,
   "metadata": {},
   "outputs": [],
   "source": [
    "//Nested Arrays and Objects\n",
    "const shoppingCart = [\n",
    "    {\n",
    "        product: \"Coke\",\n",
    "        price: 12,\n",
    "        quantity: 24,\n",
    "    },\n",
    "    {\n",
    "        product: \"Pepsi\",\n",
    "        price: 10,\n",
    "        quantity: 24,\n",
    "    },\n",
    "    {\n",
    "        product: \"Fanta\",\n",
    "        price: 8,\n",
    "        quantity: 24,\n",
    "    }\n",
    "]"
   ]
  },
  {
   "cell_type": "code",
   "execution_count": 22,
   "metadata": {},
   "outputs": [
    {
     "data": {
      "text/plain": [
       "[\n",
       "  { product: 'Coke', price: 12, quantity: 24 },\n",
       "  { product: 'Pepsi', price: 10, quantity: 24 },\n",
       "  { product: 'Fanta', price: 8, quantity: 24 }\n",
       "]"
      ]
     },
     "execution_count": 22,
     "metadata": {},
     "output_type": "execute_result"
    }
   ],
   "source": [
    "shoppingCart"
   ]
  },
  {
   "cell_type": "code",
   "execution_count": 23,
   "metadata": {},
   "outputs": [
    {
     "name": "stdout",
     "output_type": "stream",
     "text": [
      "Coke price is 12 and total quantities are 24\n",
      "Pepsi price is 10 and total quantities are 24\n",
      "Fanta price is 8 and total quantities are 24\n"
     ]
    }
   ],
   "source": [
    "for (var i = 0; i < shoppingCart.length; i++){\n",
    "    const item = shoppingCart[i];\n",
    "    console.log(item.product, \"price is\", item.price, \"and total quantities are\", item.quantity)\n",
    "}"
   ]
  },
  {
   "cell_type": "code",
   "execution_count": 24,
   "metadata": {},
   "outputs": [
    {
     "data": {
      "text/plain": [
       "20"
      ]
     },
     "execution_count": 24,
     "metadata": {},
     "output_type": "execute_result"
    }
   ],
   "source": [
    "shoppingCart[0]['product'] = \"Lucozade\"\n",
    "shoppingCart[0]['price'] = 20"
   ]
  },
  {
   "cell_type": "code",
   "execution_count": 25,
   "metadata": {},
   "outputs": [
    {
     "data": {
      "text/plain": [
       "[\n",
       "  { product: 'Lucozade', price: 20, quantity: 24 },\n",
       "  { product: 'Pepsi', price: 10, quantity: 24 },\n",
       "  { product: 'Fanta', price: 8, quantity: 24 }\n",
       "]"
      ]
     },
     "execution_count": 25,
     "metadata": {},
     "output_type": "execute_result"
    }
   ],
   "source": [
    "shoppingCart"
   ]
  }
 ],
 "metadata": {
  "kernelspec": {
   "display_name": "JavaScript (Node.js)",
   "language": "javascript",
   "name": "javascript"
  },
  "language_info": {
   "file_extension": ".js",
   "mimetype": "application/javascript",
   "name": "javascript",
   "version": "20.3.1"
  },
  "orig_nbformat": 4
 },
 "nbformat": 4,
 "nbformat_minor": 2
}
